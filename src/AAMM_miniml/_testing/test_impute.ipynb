{
 "cells": [
  {
   "cell_type": "code",
   "execution_count": 1,
   "metadata": {},
   "outputs": [],
   "source": [
    "import sys\n",
    "sys.path.append('..')"
   ]
  },
  {
   "cell_type": "code",
   "execution_count": 2,
   "metadata": {},
   "outputs": [
    {
     "name": "stdout",
     "output_type": "stream",
     "text": [
      "True\n"
     ]
    }
   ],
   "source": [
    "from sklearn.impute import KNNImputer\n",
    "import numpy as np\n",
    "from impute.KNNImputer import KNNImputer as MyKNNImputer\n",
    "\n",
    "# Step 2: Create instances of both imputers\n",
    "sklearn_imputer = KNNImputer(n_neighbors=5)\n",
    "my_imputer = MyKNNImputer(n_neighbors=5)\n",
    "\n",
    "# Step 3: Fit both imputers on the same dataset\n",
    "data = np.array([[1, 2, np.nan], [4, np.nan, 6], [7, 8, 9]])\n",
    "sklearn_imputer.fit(data)\n",
    "my_imputer.fit(data)\n",
    "\n",
    "# Step 4: Transform the dataset using both imputers\n",
    "sklearn_imputed_data = sklearn_imputer.transform(data)\n",
    "my_imputed_data = my_imputer.transform(data)\n",
    "\n",
    "# Step 5: Compare the transformed datasets\n",
    "print(np.allclose(sklearn_imputed_data, my_imputed_data))"
   ]
  },
  {
   "cell_type": "code",
   "execution_count": 3,
   "metadata": {},
   "outputs": [
    {
     "name": "stdout",
     "output_type": "stream",
     "text": [
      "True\n",
      "True\n",
      "True\n"
     ]
    }
   ],
   "source": [
    "from sklearn.impute import SimpleImputer\n",
    "from impute.SimpleImputer import SimpleImputer as MySimpleImputer\n",
    "\n",
    "# Step 2: Create instances of both simple imputers (mean)\n",
    "sklearn_imputer = SimpleImputer(strategy='mean')\n",
    "my_imputer = MySimpleImputer(strategy='mean')\n",
    "\n",
    "# Step 3: Fit both imputers on the same dataset\n",
    "data = np.array([[1, 2, np.nan], [4, np.nan, 6], [7, 8, 9]])\n",
    "sklearn_imputer.fit(data)\n",
    "my_imputer.fit(data)\n",
    "\n",
    "# Step 4: Transform the dataset using both imputers\n",
    "sklearn_imputed_data = sklearn_imputer.transform(data)\n",
    "my_imputed_data = my_imputer.transform(data)\n",
    "\n",
    "# Step 5: Compare the transformed datasets\n",
    "print(np.allclose(sklearn_imputed_data, my_imputed_data))\n",
    "\n",
    "# Step 2: Create instances of both simple imputers (median)\n",
    "sklearn_imputer = SimpleImputer(strategy='median')\n",
    "my_imputer = MySimpleImputer(strategy='median')\n",
    "\n",
    "# Step 3: Fit both imputers on the same dataset\n",
    "data = np.array([[1, 2, np.nan], [4, np.nan, 6], [7, 8, 9]])\n",
    "sklearn_imputer.fit(data)\n",
    "my_imputer.fit(data)\n",
    "\n",
    "# Step 4: Transform the dataset using both imputers\n",
    "sklearn_imputed_data = sklearn_imputer.transform(data)\n",
    "my_imputed_data = my_imputer.transform(data)\n",
    "\n",
    "# Step 5: Compare the transformed datasets\n",
    "print(np.allclose(sklearn_imputed_data, my_imputed_data))\n",
    "\n",
    "# Step 2: Create instances of both simple imputers (most_frequent)\n",
    "sklearn_imputer = SimpleImputer(strategy='most_frequent')\n",
    "my_imputer = MySimpleImputer(strategy='most_frequent')\n",
    "\n",
    "# Step 3: Fit both imputers on the same dataset\n",
    "data = np.array([[1, 2, np.nan], [4, np.nan, 6], [7, 8, 9]])\n",
    "sklearn_imputer.fit(data)\n",
    "my_imputer.fit(data)\n",
    "\n",
    "# Step 4: Transform the dataset using both imputers\n",
    "sklearn_imputed_data = sklearn_imputer.transform(data)\n",
    "my_imputed_data = my_imputer.transform(data)\n",
    "\n",
    "# Step 5: Compare the transformed datasets\n",
    "print(np.allclose(sklearn_imputed_data, my_imputed_data))\n",
    "\n",
    "\n"
   ]
  },
  {
   "cell_type": "code",
   "execution_count": null,
   "metadata": {},
   "outputs": [],
   "source": []
  }
 ],
 "metadata": {
  "kernelspec": {
   "display_name": "ds_ci1",
   "language": "python",
   "name": "python3"
  },
  "language_info": {
   "codemirror_mode": {
    "name": "ipython",
    "version": 3
   },
   "file_extension": ".py",
   "mimetype": "text/x-python",
   "name": "python",
   "nbconvert_exporter": "python",
   "pygments_lexer": "ipython3",
   "version": "3.11.7"
  }
 },
 "nbformat": 4,
 "nbformat_minor": 2
}
