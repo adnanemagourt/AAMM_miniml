{
 "cells": [
  {
   "cell_type": "code",
   "execution_count": 1,
   "metadata": {},
   "outputs": [],
   "source": [
    "import sys\n",
    "sys.path.append(\"..\")"
   ]
  },
  {
   "cell_type": "code",
   "execution_count": 2,
   "metadata": {},
   "outputs": [
    {
     "name": "stdout",
     "output_type": "stream",
     "text": [
      "True\n",
      "True\n",
      "True\n",
      "True\n"
     ]
    }
   ],
   "source": [
    "from sklearn.model_selection import train_test_split as sklearn_train_test_split\n",
    "\n",
    "# Your implementation of train_test_split\n",
    "from model_selection import train_test_split\n",
    "\n",
    "# Generate some sample data\n",
    "import numpy as np\n",
    "X = np.random.rand(100, 5)\n",
    "y = np.random.randint(0, 2, 100)\n",
    "\n",
    "\n",
    "# Split the data using scikit-learn's train_test_split\n",
    "X_train_sklearn, X_test_sklearn, y_train_sklearn, y_test_sklearn = sklearn_train_test_split(X, y, test_size=0.2, random_state=42, shuffle=False)\n",
    "\n",
    "# Split the data using your own implementation\n",
    "X_train_custom, X_test_custom, y_train_custom, y_test_custom = train_test_split(X, y, test_size=0.2, random_state=42, shuffle=False)\n",
    "\n",
    "# Compare the results\n",
    "# Your comparison code here\n",
    "print(np.array_equal(X_train_sklearn, X_train_custom))\n",
    "print(np.array_equal(X_test_sklearn, X_test_custom))\n",
    "print(np.array_equal(y_train_sklearn, y_train_custom))\n",
    "print(np.array_equal(y_test_sklearn, y_test_custom))\n"
   ]
  },
  {
   "cell_type": "code",
   "execution_count": 3,
   "metadata": {},
   "outputs": [
    {
     "name": "stdout",
     "output_type": "stream",
     "text": [
      "Scores from scikit-learn: [0.96666667 0.96666667 0.9        0.96666667 1.        ]\n",
      "Scores from custom implementation: [1.         1.         0.83333333 0.93333333 0.8       ]\n"
     ]
    }
   ],
   "source": [
    "import numpy as np\n",
    "from sklearn.model_selection import cross_val_score as cross_val_score_sklearn\n",
    "from model_selection import cross_val_score\n",
    "\n",
    "cv = 5\n",
    "\n",
    "# Example usage\n",
    "from sklearn.datasets import load_iris\n",
    "from sklearn.tree import DecisionTreeClassifier\n",
    "\n",
    "# Load the iris dataset\n",
    "iris = load_iris()\n",
    "X = iris.data\n",
    "y = iris.target\n",
    "\n",
    "# Create a Decision Tree classifier\n",
    "estimator = DecisionTreeClassifier()\n",
    "\n",
    "\n",
    "# Using scikit-learn's cross_val_score\n",
    "scores_sklearn = cross_val_score_sklearn(estimator, X, y, cv=cv, scoring='accuracy')\n",
    "\n",
    "# Using your custom cross_val_score\n",
    "scores_custom = cross_val_score(DecisionTreeClassifier, X, y, cv=cv, scoring='accuracy')\n",
    "\n",
    "# Comparing the scores\n",
    "print(\"Scores from scikit-learn:\", scores_sklearn)\n",
    "print(\"Scores from custom implementation:\", scores_custom)"
   ]
  },
  {
   "cell_type": "code",
   "execution_count": 2,
   "metadata": {},
   "outputs": [
    {
     "name": "stdout",
     "output_type": "stream",
     "text": [
      "Fitting 5 folds for each of 72 candidates, totalling 360 fits\n",
      "Best parameters found by GridSearchCV:\n",
      "{'criterion': 'gini', 'max_depth': None, 'min_samples_leaf': 5, 'min_samples_split': 2}\n",
      "Best cross-validation accuracy found by GridSearchCV: 0.95\n",
      "Best parameters found by manual grid search:\n",
      "{'criterion': 'gini', 'max_depth': None, 'min_samples_split': 2, 'min_samples_leaf': 5}\n",
      "Best cross-validation accuracy found by manual grid search: 0.9416666666666668\n",
      "\n",
      "Comparison:\n",
      "GridSearchCV Best Params: {'criterion': 'gini', 'max_depth': None, 'min_samples_leaf': 5, 'min_samples_split': 2}, Best Score: 0.95\n",
      "Manual Grid Search Best Params: {'criterion': 'gini', 'max_depth': None, 'min_samples_split': 2, 'min_samples_leaf': 5}, Best Score: 0.9416666666666668\n"
     ]
    }
   ],
   "source": [
    "\n",
    "# Import necessary libraries\n",
    "import numpy as np\n",
    "import pandas as pd\n",
    "from sklearn.datasets import load_iris\n",
    "from sklearn.tree import DecisionTreeClassifier\n",
    "from sklearn.model_selection import GridSearchCV, train_test_split\n",
    "from sklearn.metrics import accuracy_score\n",
    "from model_selection.GridSearchCV import GridSearchCV as manual_grid_search\n",
    "\n",
    "# Load the Iris dataset\n",
    "iris = load_iris()\n",
    "X = iris.data\n",
    "y = iris.target\n",
    "\n",
    "# Split the dataset into training and testing sets\n",
    "X_train, X_test, y_train, y_test = train_test_split(X, y, test_size=0.2, random_state=42)\n",
    "\n",
    "# Initialize the Decision Tree Classifier\n",
    "dtc = DecisionTreeClassifier()\n",
    "\n",
    "# Define the parameter grid\n",
    "param_grid = {\n",
    "    'criterion': ['gini', 'entropy'],\n",
    "    'max_depth': [None, 10, 20, 30],\n",
    "    'min_samples_split': [2, 10, 20],\n",
    "    'min_samples_leaf': [1, 5, 10]\n",
    "}\n",
    "\n",
    "# Perform Grid Search using GridSearchCV\n",
    "grid_search = GridSearchCV(estimator=dtc, param_grid=param_grid, cv=5, n_jobs=-1, verbose=1)\n",
    "grid_search.fit(X_train, y_train)\n",
    "\n",
    "# Get the best parameters and the best score from GridSearchCV\n",
    "best_params_gscv = grid_search.best_params_\n",
    "best_score_gscv = grid_search.best_score_\n",
    "\n",
    "print(\"Best parameters found by GridSearchCV:\")\n",
    "print(best_params_gscv)\n",
    "print(\"Best cross-validation accuracy found by GridSearchCV:\", best_score_gscv)\n",
    "\n",
    "# Manual implementation of Grid Search\n",
    "\n",
    "# Run manual grid search\n",
    "from sklearn.model_selection import KFold\n",
    "\n",
    "grid2 = manual_grid_search(dtc, param_grid)\n",
    "grid2.fit(X_train, y_train)\n",
    "\n",
    "# Get the best parameters and the best score from manual grid search\n",
    "best_params_manual = grid2.best_params_\n",
    "best_score_manual = grid2.best_score_\n",
    "\n",
    "\n",
    "print(\"Best parameters found by manual grid search:\")\n",
    "print(best_params_manual)\n",
    "print(\"Best cross-validation accuracy found by manual grid search:\", best_score_manual)\n",
    "\n",
    "# Compare both implementations\n",
    "print(\"\\nComparison:\")\n",
    "print(f\"GridSearchCV Best Params: {best_params_gscv}, Best Score: {best_score_gscv}\")\n",
    "print(f\"Manual Grid Search Best Params: {best_params_manual}, Best Score: {best_score_manual}\")\n",
    "\n",
    "\n"
   ]
  },
  {
   "cell_type": "code",
   "execution_count": null,
   "metadata": {},
   "outputs": [],
   "source": []
  }
 ],
 "metadata": {
  "kernelspec": {
   "display_name": "ds_ci1",
   "language": "python",
   "name": "python3"
  },
  "language_info": {
   "codemirror_mode": {
    "name": "ipython",
    "version": 3
   },
   "file_extension": ".py",
   "mimetype": "text/x-python",
   "name": "python",
   "nbconvert_exporter": "python",
   "pygments_lexer": "ipython3",
   "version": "3.11.7"
  }
 },
 "nbformat": 4,
 "nbformat_minor": 2
}
