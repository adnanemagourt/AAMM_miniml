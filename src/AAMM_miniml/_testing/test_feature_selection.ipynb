{
 "cells": [
  {
   "cell_type": "code",
   "execution_count": 1,
   "metadata": {},
   "outputs": [],
   "source": [
    "import sys\n",
    "sys.path.append('..')"
   ]
  },
  {
   "cell_type": "code",
   "execution_count": 3,
   "metadata": {},
   "outputs": [
    {
     "name": "stdout",
     "output_type": "stream",
     "text": [
      "SelectKBest Results:\n",
      "[[2 3]\n",
      " [5 6]\n",
      " [8 9]]\n",
      "Your Implementation Results:\n",
      "[[2 3]\n",
      " [5 6]\n",
      " [8 9]]\n"
     ]
    }
   ],
   "source": [
    "import numpy as np\n",
    "from sklearn.feature_selection import SelectKBest, chi2\n",
    "from feature_selection.SelectKBest import SelectKBest as my_SelectKBest\n",
    "\n",
    "# Your implementation\n",
    "def my_select_k_best(X, y, k):\n",
    "    # Your code here\n",
    "    pass\n",
    "\n",
    "# Test data\n",
    "X = np.array([[1, 2, 3], [4, 5, 6], [7, 8, 9]])\n",
    "y = np.array([0, 1, 0])\n",
    "\n",
    "# Test SelectKBest\n",
    "selector = SelectKBest(chi2, k=2)\n",
    "X_selected = selector.fit_transform(X, y)\n",
    "\n",
    "# Test your implementation\n",
    "select_k_best = my_SelectKBest(chi2, k=2)\n",
    "X_my_selected = select_k_best.fit_transform(X, y)\n",
    "\n",
    "# Compare the results\n",
    "print(\"SelectKBest Results:\")\n",
    "print(X_selected)\n",
    "print(\"Your Implementation Results:\")\n",
    "print(X_my_selected)\n",
    "\n",
    "\n"
   ]
  },
  {
   "cell_type": "code",
   "execution_count": 7,
   "metadata": {},
   "outputs": [
    {
     "name": "stdout",
     "output_type": "stream",
     "text": [
      "Passed!\n"
     ]
    }
   ],
   "source": [
    "from sklearn.feature_selection import VarianceThreshold\n",
    "from feature_selection.VarianceThreshold import VarianceThreshold as my_VarianceThreshold\n",
    "\n",
    "# Generate synthetic dataset with known variances\n",
    "np.random.seed(0)\n",
    "X_synthetic = np.random.rand(100, 10)  # 100 samples, 10 features\n",
    "\n",
    "# Introduce known variance for each feature\n",
    "variances = np.linspace(0.1, 1.0, 10)  # Variances ranging from 0.1 to 1.0\n",
    "for i in range(X_synthetic.shape[1]):\n",
    "    X_synthetic[:, i] *= variances[i]\n",
    "\n",
    "# Test VarianceThreshold from scikit-learn\n",
    "selector_sklearn = VarianceThreshold()\n",
    "X_sklearn_selected = selector_sklearn.fit_transform(X_synthetic)\n",
    "\n",
    "# Test your implementation of VarianceThreshold\n",
    "selector_custom = my_VarianceThreshold()\n",
    "X_custom_selected = selector_custom.fit_transform(X_synthetic)\n",
    "\n",
    "\n",
    "# Compare the results\n",
    "# print(\"VarianceThreshold Results (scikit-learn):\")\n",
    "# print(X_sklearn_selected)\n",
    "# print(\"Your Implementation Results:\")\n",
    "# print(X_custom_selected)\n",
    "\n",
    "assert np.array_equal(X_sklearn_selected, X_custom_selected), \"Selected features do not match.\"\n",
    "\n",
    "print(\"Passed!\")\n",
    "\n"
   ]
  },
  {
   "cell_type": "code",
   "execution_count": null,
   "metadata": {},
   "outputs": [],
   "source": []
  }
 ],
 "metadata": {
  "kernelspec": {
   "display_name": "ds_ci1",
   "language": "python",
   "name": "python3"
  },
  "language_info": {
   "codemirror_mode": {
    "name": "ipython",
    "version": 3
   },
   "file_extension": ".py",
   "mimetype": "text/x-python",
   "name": "python",
   "nbconvert_exporter": "python",
   "pygments_lexer": "ipython3",
   "version": "3.11.7"
  }
 },
 "nbformat": 4,
 "nbformat_minor": 2
}
