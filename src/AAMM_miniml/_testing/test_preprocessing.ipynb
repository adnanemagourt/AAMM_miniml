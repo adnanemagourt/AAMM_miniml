{
 "cells": [
  {
   "cell_type": "code",
   "execution_count": 10,
   "metadata": {},
   "outputs": [],
   "source": [
    "import sys\n",
    "sys.path.append(\"..\")\n"
   ]
  },
  {
   "cell_type": "code",
   "execution_count": 11,
   "metadata": {},
   "outputs": [],
   "source": [
    "import seaborn as sns\n",
    "import pandas as pd\n",
    "\n",
    "df = sns.load_dataset('titanic')\n",
    "categorical_feature = df.dtypes[df.dtypes == 'object'].index[3]\n",
    "\n",
    "\n",
    "# convert the column to string data type\n",
    "df[categorical_feature] = df[categorical_feature].astype(str)\n"
   ]
  },
  {
   "cell_type": "code",
   "execution_count": 12,
   "metadata": {},
   "outputs": [
    {
     "data": {
      "text/plain": [
       "'embark_town'"
      ]
     },
     "execution_count": 12,
     "metadata": {},
     "output_type": "execute_result"
    }
   ],
   "source": [
    "categorical_feature"
   ]
  },
  {
   "cell_type": "code",
   "execution_count": 13,
   "metadata": {},
   "outputs": [
    {
     "name": "stdout",
     "output_type": "stream",
     "text": [
      "Label encoding is correct\n"
     ]
    }
   ],
   "source": [
    "\n",
    "\n",
    "from preprocessing.LabelEncoder import LabelEncoder\n",
    "from sklearn.preprocessing import LabelEncoder as SklearnLabelEncoder\n",
    "\n",
    "# apply our label encoder\n",
    "label_encoder = LabelEncoder()\n",
    "df[categorical_feature+\"_label\"] = label_encoder.fit_transform(df[categorical_feature])\n",
    "\n",
    "\n",
    "# apply sklearn label encoder\n",
    "sklearn_label_encoder = SklearnLabelEncoder()\n",
    "df[categorical_feature+\"_label_sklearn\"] = sklearn_label_encoder.fit_transform(df[categorical_feature])\n",
    "\n",
    "\n",
    "# check if the results are the same\n",
    "assert (df[categorical_feature+\"_label\"] == df[categorical_feature+\"_label_sklearn\"]).all()\n",
    "print(\"Label encoding is correct\")\n",
    "\n"
   ]
  },
  {
   "cell_type": "code",
   "execution_count": 14,
   "metadata": {},
   "outputs": [
    {
     "name": "stdout",
     "output_type": "stream",
     "text": [
      "OneHotEncoder works correctly!\n"
     ]
    }
   ],
   "source": [
    "\n",
    "from preprocessing.OneHotEncoder import OneHotEncoder\n",
    "from sklearn.preprocessing import OneHotEncoder as SklearnOneHotEncoder\n",
    "# apply our one hot encoder\n",
    "one_hot_encoder = OneHotEncoder()\n",
    "encoded = one_hot_encoder.fit_transform(df[[categorical_feature]].values)\n",
    "\n",
    "# apply sklearn one hot encoder\n",
    "sklearn_one_hot_encoder = SklearnOneHotEncoder()\n",
    "sklearn_encoded = pd.DataFrame(sklearn_one_hot_encoder.fit_transform(df[categorical_feature].values.reshape(-1, 1)).toarray())\n",
    "\n",
    "\n",
    "# check if the results are the same\n",
    "assert (encoded == sklearn_encoded).all().all()\n",
    "print(\"OneHotEncoder works correctly!\")\n",
    "\n"
   ]
  },
  {
   "cell_type": "code",
   "execution_count": 15,
   "metadata": {},
   "outputs": [],
   "source": [
    "df = sns.load_dataset('titanic')\n",
    "\n",
    "# numerical features\n",
    "numerical_features = [d for d in df.columns if df[d].dtype != 'object' and df[d].dtype != 'category']\n"
   ]
  },
  {
   "cell_type": "code",
   "execution_count": 16,
   "metadata": {},
   "outputs": [
    {
     "name": "stdout",
     "output_type": "stream",
     "text": [
      "StandardScaler works correctly!\n"
     ]
    }
   ],
   "source": [
    "\n",
    "from preprocessing.StandardScaler import StandardScaler\n",
    "from sklearn.preprocessing import StandardScaler as SklearnStandardScaler\n",
    "\n",
    "\n",
    "# apply our standard scaler\n",
    "standard_scaler = StandardScaler()\n",
    "scaled = standard_scaler.fit_transform(df[numerical_features]).astype(float)\n",
    "\n",
    "# apply sklearn standard scaler\n",
    "sklearn_standard_scaler = SklearnStandardScaler()\n",
    "sklearn_scaled = pd.DataFrame(sklearn_standard_scaler.fit_transform(df[numerical_features]), columns=numerical_features).astype(float)\n",
    "\n",
    "# check if the results are the same\n",
    "print(\"StandardScaler works correctly!\")\n"
   ]
  },
  {
   "cell_type": "code",
   "execution_count": 17,
   "metadata": {},
   "outputs": [
    {
     "data": {
      "text/plain": [
       "0"
      ]
     },
     "execution_count": 17,
     "metadata": {},
     "output_type": "execute_result"
    }
   ],
   "source": [
    "# get the differences between the two results\n",
    "diff = scaled - sklearn_scaled\n",
    "diff = diff[diff != 0]\n",
    "diff[diff > 0.0001].count().sum()"
   ]
  },
  {
   "cell_type": "code",
   "execution_count": 19,
   "metadata": {},
   "outputs": [
    {
     "name": "stdout",
     "output_type": "stream",
     "text": [
      "Normalizer works correctly!\n"
     ]
    }
   ],
   "source": [
    "df = sns.load_dataset('titanic')\n",
    "\n",
    "from preprocessing.Normalizer import Normalizer\n",
    "from sklearn.preprocessing import Normalizer as SklearnNormalizer\n",
    "\n",
    "from sklearn.impute import SimpleImputer\n",
    "\n",
    "# Apply imputation to fill in missing values\n",
    "imputer = SimpleImputer(strategy='mean')\n",
    "df[numerical_features] = imputer.fit_transform(df[numerical_features])\n",
    "\n",
    "# apply our normalizer\n",
    "normalizer = Normalizer()\n",
    "normalized = normalizer.fit_transform(df[numerical_features])\n",
    "\n",
    "# apply sklearn normalizer\n",
    "sklearn_normalizer = SklearnNormalizer()\n",
    "sklearn_normalized = pd.DataFrame(sklearn_normalizer.fit_transform(df[numerical_features]), columns=numerical_features)\n",
    "\n",
    "# check if the results are the same\n",
    "assert (normalized == sklearn_normalized).all().all()\n",
    "print(\"Normalizer works correctly!\")\n"
   ]
  },
  {
   "cell_type": "code",
   "execution_count": null,
   "metadata": {},
   "outputs": [],
   "source": []
  }
 ],
 "metadata": {
  "kernelspec": {
   "display_name": "ds_ci1",
   "language": "python",
   "name": "python3"
  },
  "language_info": {
   "codemirror_mode": {
    "name": "ipython",
    "version": 3
   },
   "file_extension": ".py",
   "mimetype": "text/x-python",
   "name": "python",
   "nbconvert_exporter": "python",
   "pygments_lexer": "ipython3",
   "version": "3.11.7"
  }
 },
 "nbformat": 4,
 "nbformat_minor": 2
}
