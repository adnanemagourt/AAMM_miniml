{
 "cells": [
  {
   "cell_type": "code",
   "execution_count": null,
   "metadata": {},
   "outputs": [
    {
     "ename": "NameError",
     "evalue": "name 'train_test_split' is not defined",
     "output_type": "error",
     "traceback": [
      "\u001b[1;31m---------------------------------------------------------------------------\u001b[0m\n",
      "\u001b[1;31mNameError\u001b[0m                                 Traceback (most recent call last)\n",
      "Cell \u001b[1;32mIn[1], line 25\u001b[0m\n",
      "\u001b[0;32m     20\u001b[0m X_class \u001b[38;5;241m=\u001b[39m data\u001b[38;5;241m.\u001b[39mdata[:\u001b[38;5;241m10000\u001b[39m]\n",
      "\u001b[0;32m     22\u001b[0m y_class \u001b[38;5;241m=\u001b[39m data\u001b[38;5;241m.\u001b[39mtarget[:\u001b[38;5;241m10000\u001b[39m]\n",
      "\u001b[1;32m---> 25\u001b[0m X_train_regress, X_test_regress, y_train_regress, y_test_regress \u001b[38;5;241m=\u001b[39m train_test_split(X_regress, y_regress, test_size\u001b[38;5;241m=\u001b[39m\u001b[38;5;241m0.2\u001b[39m, random_state\u001b[38;5;241m=\u001b[39m\u001b[38;5;241m42\u001b[39m)\n",
      "\u001b[0;32m     27\u001b[0m X_train_class, X_test_class, y_train_class, y_test_class \u001b[38;5;241m=\u001b[39m train_test_split(X_class, y_class, test_size\u001b[38;5;241m=\u001b[39m\u001b[38;5;241m0.2\u001b[39m, random_state\u001b[38;5;241m=\u001b[39m\u001b[38;5;241m42\u001b[39m)\n",
      "\u001b[0;32m     29\u001b[0m samples \u001b[38;5;241m=\u001b[39m [\u001b[38;5;241m10\u001b[39m\u001b[38;5;241m*\u001b[39mi \u001b[38;5;28;01mfor\u001b[39;00m i \u001b[38;5;129;01min\u001b[39;00m \u001b[38;5;28mrange\u001b[39m(\u001b[38;5;241m1\u001b[39m, \u001b[38;5;241m1000\u001b[39m)]\n",
      "\n",
      "\u001b[1;31mNameError\u001b[0m: name 'train_test_split' is not defined"
     ]
    }
   ],
   "source": [
    "import sys\n",
    "sys.path.append('..')\n",
    "\n",
    "from os import times\n",
    "import time\n",
    "\n",
    "from sklearn.datasets import fetch_california_housing\n",
    "from sklearn.model_selection import train_test_split\n",
    "import matplotlib.pyplot as plt\n",
    "\n",
    "data = fetch_california_housing()\n",
    "\n",
    "# we will use the first 1000 samples\n",
    "X_regress = data.data[:10000]\n",
    "\n",
    "y_regress = data.target[:10000]\n",
    "\n",
    "from sklearn.datasets import fetch_covtype\n",
    "\n",
    "data = fetch_covtype()\n",
    "\n",
    "X_class = data.data[:10000]\n",
    "\n",
    "y_class = data.target[:10000]\n",
    "\n",
    "\n",
    "X_train_regress, X_test_regress, y_train_regress, y_test_regress = train_test_split(X_regress, y_regress, test_size=0.2, random_state=42)\n",
    "\n",
    "X_train_class, X_test_class, y_train_class, y_test_class = train_test_split(X_class, y_class, test_size=0.2, random_state=42)\n",
    "\n",
    "samples = [10*i for i in range(1, 1000)]\n",
    "\n",
    "def benchmark(model, X_train, X_test, y_train):\n",
    "    times = []\n",
    "    for i in samples:\n",
    "        start = time.time()\n",
    "        model.fit(X_train[:i], y_train[:i])\n",
    "        model.predict(X_test)\n",
    "        end = time.time()\n",
    "        times.append(end - start)\n",
    "    \n",
    "    plt.plot(samples, times)\n",
    "    plt.xlabel('Number of samples')\n",
    "    plt.ylabel('Time taken to predict one sample')\n",
    "    plt.title('Time complexity of KNNRegressor')\n",
    "    plt.show()\n"
   ]
  },
  {
   "cell_type": "markdown",
   "metadata": {},
   "source": [
    "# for KNN Regressor"
   ]
  },
  {
   "cell_type": "code",
   "execution_count": null,
   "metadata": {},
   "outputs": [],
   "source": [
    "from neighbors.KNNRegressor import KNNRegressor\n",
    "# Create a KNNRegressor object\n",
    "knn = KNNRegressor(5)\n",
    "\n",
    "benchmark(knn, X_train_regress, X_test_regress, y_train_regress)\n"
   ]
  },
  {
   "cell_type": "markdown",
   "metadata": {},
   "source": [
    "# For KNNClassifier"
   ]
  },
  {
   "cell_type": "code",
   "execution_count": null,
   "metadata": {},
   "outputs": [],
   "source": [
    "from neighbors.KNNClassifier import KNNClassifier\n",
    "\n",
    "model = KNNClassifier()\n",
    "\n",
    "benchmark(model, X_train_class, X_test_class, y_train_class)"
   ]
  },
  {
   "cell_type": "markdown",
   "metadata": {},
   "source": [
    "# For OptimizedKNNClassifier"
   ]
  },
  {
   "cell_type": "code",
   "execution_count": null,
   "metadata": {},
   "outputs": [],
   "source": [
    "from neighbors.OptimizedKNNClassifier import OptimizedKNNClassifier\n",
    "\n",
    "model = OptimizedKNNClassifier()\n",
    "\n",
    "benchmark(model, X_train_class, X_test_class, y_train_class)"
   ]
  },
  {
   "cell_type": "markdown",
   "metadata": {},
   "source": [
    "# For OptimizedKNNRegressor"
   ]
  },
  {
   "cell_type": "code",
   "execution_count": null,
   "metadata": {},
   "outputs": [],
   "source": [
    "from neighbors.OptimizedKNNRegressor import OptimizedKNNRegressor\n",
    "\n",
    "model = OptimizedKNNRegressor()\n",
    "\n",
    "benchmark(model, X_train_regress, X_test_regress, y_train_regress)"
   ]
  },
  {
   "cell_type": "markdown",
   "metadata": {},
   "source": [
    "# For Linear Regression"
   ]
  },
  {
   "cell_type": "code",
   "execution_count": null,
   "metadata": {},
   "outputs": [],
   "source": [
    "from linear_model.LinearRegression import LinearRegression\n",
    "\n",
    "model = LinearRegression()\n",
    "\n",
    "benchmark(model, X_train_regress, X_test_regress, y_train_regress)"
   ]
  },
  {
   "cell_type": "markdown",
   "metadata": {},
   "source": [
    "# For Logistic Regression"
   ]
  },
  {
   "cell_type": "code",
   "execution_count": null,
   "metadata": {},
   "outputs": [],
   "source": [
    "from linear_model.Logistic import MultiClassLogisticRegression\n",
    "\n",
    "model = MultiClassLogisticRegression()\n",
    "\n",
    "benchmark(model, X_train_regress, X_test_regress, y_train_regress)\n"
   ]
  },
  {
   "cell_type": "markdown",
   "metadata": {},
   "source": [
    "# For Decision Tree Classifier"
   ]
  },
  {
   "cell_type": "code",
   "execution_count": null,
   "metadata": {},
   "outputs": [],
   "source": [
    "from tree.DecisionTreeClassifier import DecisionTreeClassifier\n",
    "\n",
    "model = DecisionTreeClassifier()\n",
    "\n",
    "benchmark(model, X_train_class, X_test_class, y_train_class)"
   ]
  },
  {
   "cell_type": "markdown",
   "metadata": {},
   "source": [
    "# For Decision Tree Regressor"
   ]
  },
  {
   "cell_type": "code",
   "execution_count": null,
   "metadata": {},
   "outputs": [],
   "source": [
    "from tree.DecisionTreeRegressor import DecisionTreeRegressor\n",
    "\n",
    "model = DecisionTreeRegressor()\n",
    "\n",
    "benchmark(model, X_train_regress, X_test_regress, y_train_regress)"
   ]
  },
  {
   "cell_type": "markdown",
   "metadata": {},
   "source": [
    "# For Random Forest Regressor"
   ]
  },
  {
   "cell_type": "code",
   "execution_count": null,
   "metadata": {},
   "outputs": [],
   "source": [
    "from ensemble.RandomForestRegressor import RandomForestRegressor\n",
    "\n",
    "model = RandomForestRegressor()\n",
    "\n",
    "benchmark(model, X_train_regress, X_test_regress, y_train_regress)\n"
   ]
  },
  {
   "cell_type": "markdown",
   "metadata": {},
   "source": [
    "# For Random Forest Classifier"
   ]
  },
  {
   "cell_type": "code",
   "execution_count": null,
   "metadata": {},
   "outputs": [],
   "source": [
    "from ensemble.RandomForestClassifier import RandomForestClassifier\n",
    "\n",
    "model = RandomForestClassifier()\n",
    "\n",
    "benchmark(model, X_train_class, X_test_class, y_train_class)\n"
   ]
  },
  {
   "cell_type": "markdown",
   "metadata": {},
   "source": [
    "# For ParallelRandomForestClassifier"
   ]
  },
  {
   "cell_type": "code",
   "execution_count": null,
   "metadata": {},
   "outputs": [],
   "source": [
    "from ensemble.ParallelRandomForestClassifier import ParallelRandomForestClassifier\n",
    "\n",
    "model = ParallelRandomForestClassifier()\n",
    "\n",
    "benchmark(model, X_train_class, X_test_class, y_train_class)\n"
   ]
  },
  {
   "cell_type": "markdown",
   "metadata": {},
   "source": [
    "# For ParallelRandomForestRegressor"
   ]
  },
  {
   "cell_type": "code",
   "execution_count": null,
   "metadata": {},
   "outputs": [],
   "source": [
    "from ensemble.ParallelRandomForestRegressor import ParallelRandomForestRegressor\n",
    "\n",
    "model = ParallelRandomForestRegressor()\n",
    "\n",
    "benchmark(model, X_train_regress, X_test_regress, y_train_regress)\n"
   ]
  },
  {
   "cell_type": "code",
   "execution_count": null,
   "metadata": {},
   "outputs": [],
   "source": []
  }
 ],
 "metadata": {
  "kernelspec": {
   "display_name": "ds_ci1",
   "language": "python",
   "name": "python3"
  },
  "language_info": {
   "name": "python",
   "version": "3.11.7"
  }
 },
 "nbformat": 4,
 "nbformat_minor": 2
}
