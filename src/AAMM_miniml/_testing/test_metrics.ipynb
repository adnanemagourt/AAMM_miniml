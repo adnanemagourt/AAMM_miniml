{
 "cells": [
  {
   "cell_type": "code",
   "execution_count": 1,
   "metadata": {},
   "outputs": [],
   "source": [
    "import sys\n",
    "sys.path.append('..')"
   ]
  },
  {
   "cell_type": "code",
   "execution_count": 2,
   "metadata": {},
   "outputs": [
    {
     "name": "stdout",
     "output_type": "stream",
     "text": [
      "Your MSE: 20.0\n",
      "Sklearn's MSE: 20.0\n",
      "Your MAE: 4.2\n",
      "Sklearn's MAE: 4.2\n",
      "Your F1: [0.0]\n",
      "Sklearn's F1: 0.0\n",
      "Your accuracy: 0.0\n",
      "Sklearn's accuracy: 0.0\n"
     ]
    }
   ],
   "source": [
    "import numpy as np\n",
    "from sklearn.metrics import mean_squared_error as mse, mean_absolute_error as mae, f1_score as f1, accuracy_score as acc\n",
    "from metrics import mean_squared_error, mean_absolute_error, f1_score, accuracy_score\n",
    "\n",
    "# Create y_true and y_pred\n",
    "np.random.seed(0)  # for reproducibility\n",
    "y_true = np.random.randint(0, 10, size=10)\n",
    "y_pred = np.random.randint(0, 10, size=10)\n",
    "\n",
    "# Calculate MSE using your function\n",
    "your_mse = mean_squared_error(y_true, y_pred)\n",
    "\n",
    "# Calculate MSE using sklearn's function\n",
    "sklearn_mse = mse(y_true, y_pred)\n",
    "\n",
    "# Compare the results\n",
    "print(f\"Your MSE: {your_mse}\")\n",
    "print(f\"Sklearn's MSE: {sklearn_mse}\")\n",
    "\n",
    "# Calculate MAE using your function\n",
    "your_mae = mean_absolute_error(y_true, y_pred)\n",
    "\n",
    "# Calculate MAE using sklearn's function\n",
    "sklearn_mae = mae(y_true, y_pred)\n",
    "\n",
    "# Compare the results\n",
    "print(f\"Your MAE: {your_mae}\")\n",
    "print(f\"Sklearn's MAE: {sklearn_mae}\")\n",
    "\n",
    "# Calculate F1 using your function\n",
    "your_f1 = f1_score(y_true, y_pred)\n",
    "\n",
    "# Calculate F1 using sklearn's function\n",
    "sklearn_f1 = f1(y_true, y_pred, average='weighted')\n",
    "\n",
    "# Compare the results\n",
    "print(f\"Your F1: {your_f1}\")\n",
    "print(f\"Sklearn's F1: {sklearn_f1}\")\n",
    "\n",
    "# Calculate accuracy using your function\n",
    "your_acc = accuracy_score(y_true, y_pred)\n",
    "\n",
    "# Calculate accuracy using sklearn's function\n",
    "sklearn_acc = acc(y_true, y_pred)\n",
    "\n",
    "# Compare the results\n",
    "print(f\"Your accuracy: {your_acc}\")\n",
    "print(f\"Sklearn's accuracy: {sklearn_acc}\")\n"
   ]
  },
  {
   "cell_type": "code",
   "execution_count": null,
   "metadata": {},
   "outputs": [],
   "source": []
  }
 ],
 "metadata": {
  "kernelspec": {
   "display_name": "ds_ci1",
   "language": "python",
   "name": "python3"
  },
  "language_info": {
   "codemirror_mode": {
    "name": "ipython",
    "version": 3
   },
   "file_extension": ".py",
   "mimetype": "text/x-python",
   "name": "python",
   "nbconvert_exporter": "python",
   "pygments_lexer": "ipython3",
   "version": "3.11.7"
  }
 },
 "nbformat": 4,
 "nbformat_minor": 2
}
