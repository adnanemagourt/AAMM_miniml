{
 "cells": [
  {
   "cell_type": "code",
   "execution_count": 1,
   "metadata": {},
   "outputs": [],
   "source": [
    "import sys\n",
    "sys.path.append('..')"
   ]
  },
  {
   "cell_type": "code",
   "execution_count": 2,
   "metadata": {},
   "outputs": [],
   "source": [
    "from neural_network.BinaryClassificationNN import BinaryClassificationNN\n",
    "from neural_network.MultiClassNN import MultiClassNN\n",
    "from neural_network.RegressionNN import RegressionNN\n",
    "\n",
    "from sklearn.datasets import load_breast_cancer\n",
    "from sklearn.datasets import load_iris\n",
    "from sklearn.datasets import load_diabetes\n",
    "\n",
    "from sklearn.model_selection import train_test_split\n",
    "\n",
    "from sklearn.neural_network import MLPClassifier\n",
    "from sklearn.neural_network import MLPRegressor\n",
    "\n",
    "from sklearn.metrics import accuracy_score\n",
    "from sklearn.metrics import mean_squared_error\n",
    "\n",
    "import numpy as np\n"
   ]
  },
  {
   "cell_type": "code",
   "execution_count": 3,
   "metadata": {},
   "outputs": [],
   "source": [
    "\n",
    "# Load the breast cancer dataset\n",
    "data = load_breast_cancer()\n",
    "X = data.data\n",
    "y = data.target\n",
    "\n",
    "# Split the data into training and testing sets\n",
    "X_train, X_test, y_train, y_test = train_test_split(X, y, test_size=0.2)\n"
   ]
  },
  {
   "cell_type": "code",
   "execution_count": 4,
   "metadata": {},
   "outputs": [
    {
     "name": "stderr",
     "output_type": "stream",
     "text": [
      "d:\\OneDrive - Université Mohammed VI Polytechnique\\.S2\\CSCI-M123 AI 1 (Data Science)\\Project\\SKL\\mini-sklearn\\AAMM_miniml\\_testing\\..\\neural_network\\BaseNeuralNetwork.py:12: RuntimeWarning: overflow encountered in exp\n",
      "  return 1 / (1 + np.exp(-z))\n"
     ]
    },
    {
     "ename": "ValueError",
     "evalue": "shapes (455,455) and (1,10) not aligned: 455 (dim 1) != 1 (dim 0)",
     "output_type": "error",
     "traceback": [
      "\u001b[1;31m---------------------------------------------------------------------------\u001b[0m",
      "\u001b[1;31mValueError\u001b[0m                                Traceback (most recent call last)",
      "Cell \u001b[1;32mIn[4], line 3\u001b[0m\n\u001b[0;32m      1\u001b[0m \u001b[38;5;66;03m# Train the neural network\u001b[39;00m\n\u001b[0;32m      2\u001b[0m nn \u001b[38;5;241m=\u001b[39m BinaryClassificationNN()\n\u001b[1;32m----> 3\u001b[0m nn\u001b[38;5;241m.\u001b[39mfit(X_train, y_train)\n\u001b[0;32m      5\u001b[0m \u001b[38;5;66;03m# Predict the test set\u001b[39;00m\n\u001b[0;32m      6\u001b[0m y_pred \u001b[38;5;241m=\u001b[39m nn\u001b[38;5;241m.\u001b[39mpredict(X_test)\n",
      "File \u001b[1;32md:\\OneDrive - Université Mohammed VI Polytechnique\\.S2\\CSCI-M123 AI 1 (Data Science)\\Project\\SKL\\mini-sklearn\\AAMM_miniml\\_testing\\..\\neural_network\\BaseNeuralNetwork.py:63\u001b[0m, in \u001b[0;36mBaseNeuralNetwork.fit\u001b[1;34m(self, X, y, epochs)\u001b[0m\n\u001b[0;32m     61\u001b[0m y_pred \u001b[38;5;241m=\u001b[39m \u001b[38;5;28mself\u001b[39m\u001b[38;5;241m.\u001b[39mforward(X)\n\u001b[0;32m     62\u001b[0m loss \u001b[38;5;241m=\u001b[39m \u001b[38;5;28mself\u001b[39m\u001b[38;5;241m.\u001b[39mcompute_loss(y, y_pred)\n\u001b[1;32m---> 63\u001b[0m \u001b[38;5;28mself\u001b[39m\u001b[38;5;241m.\u001b[39mbackward(X, y, y_pred)\n\u001b[0;32m     64\u001b[0m \u001b[38;5;28;01mif\u001b[39;00m epoch \u001b[38;5;241m%\u001b[39m \u001b[38;5;241m100\u001b[39m \u001b[38;5;241m==\u001b[39m \u001b[38;5;241m0\u001b[39m:\n\u001b[0;32m     65\u001b[0m     \u001b[38;5;28mprint\u001b[39m(\u001b[38;5;124mf\u001b[39m\u001b[38;5;124m'\u001b[39m\u001b[38;5;124mEpoch \u001b[39m\u001b[38;5;132;01m{\u001b[39;00mepoch\u001b[38;5;132;01m}\u001b[39;00m\u001b[38;5;124m, Loss: \u001b[39m\u001b[38;5;132;01m{\u001b[39;00mloss\u001b[38;5;132;01m}\u001b[39;00m\u001b[38;5;124m'\u001b[39m)\n",
      "File \u001b[1;32md:\\OneDrive - Université Mohammed VI Polytechnique\\.S2\\CSCI-M123 AI 1 (Data Science)\\Project\\SKL\\mini-sklearn\\AAMM_miniml\\_testing\\..\\neural_network\\BinaryClassificationNN.py:34\u001b[0m, in \u001b[0;36mBinaryClassificationNN.backward\u001b[1;34m(self, X, y_true, y_pred)\u001b[0m\n\u001b[0;32m     31\u001b[0m d_loss_W2 \u001b[38;5;241m=\u001b[39m np\u001b[38;5;241m.\u001b[39mdot(d_z2_W2\u001b[38;5;241m.\u001b[39mT, d_loss_a2 \u001b[38;5;241m*\u001b[39m d_a2_z2)\n\u001b[0;32m     32\u001b[0m d_loss_b2 \u001b[38;5;241m=\u001b[39m np\u001b[38;5;241m.\u001b[39msum(d_loss_a2 \u001b[38;5;241m*\u001b[39m d_a2_z2, axis\u001b[38;5;241m=\u001b[39m\u001b[38;5;241m0\u001b[39m, keepdims\u001b[38;5;241m=\u001b[39m\u001b[38;5;28;01mTrue\u001b[39;00m)\n\u001b[1;32m---> 34\u001b[0m d_loss_a1 \u001b[38;5;241m=\u001b[39m np\u001b[38;5;241m.\u001b[39mdot(d_loss_a2 \u001b[38;5;241m*\u001b[39m d_a2_z2, \u001b[38;5;28mself\u001b[39m\u001b[38;5;241m.\u001b[39mW2\u001b[38;5;241m.\u001b[39mT)  \u001b[38;5;66;03m# This line should work if shapes are correct\u001b[39;00m\n\u001b[0;32m     35\u001b[0m d_a1_z1 \u001b[38;5;241m=\u001b[39m \u001b[38;5;28mself\u001b[39m\u001b[38;5;241m.\u001b[39msigmoid_derivative(\u001b[38;5;28mself\u001b[39m\u001b[38;5;241m.\u001b[39ma1)\n\u001b[0;32m     36\u001b[0m d_z1_W1 \u001b[38;5;241m=\u001b[39m X\n",
      "File \u001b[1;32m<__array_function__ internals>:180\u001b[0m, in \u001b[0;36mdot\u001b[1;34m(*args, **kwargs)\u001b[0m\n",
      "\u001b[1;31mValueError\u001b[0m: shapes (455,455) and (1,10) not aligned: 455 (dim 1) != 1 (dim 0)"
     ]
    }
   ],
   "source": [
    "\n",
    "# Train the neural network\n",
    "nn = BinaryClassificationNN()\n",
    "nn.fit(X_train, y_train)\n",
    "\n",
    "# Predict the test set\n",
    "y_pred = nn.predict(X_test)\n",
    "\n",
    "# Calculate the accuracy\n",
    "accuracy = accuracy_score(y_test, y_pred)\n",
    "print(f'My accuracy: {accuracy}')\n",
    "\n",
    "# Compare with sklearn\n",
    "sklearn_nn = MLPClassifier()\n",
    "sklearn_nn.fit(X_train, y_train)\n",
    "y_pred = sklearn_nn.predict(X_test)\n",
    "accuracy = accuracy_score(y_test, y_pred)\n",
    "print(f'Sklearn accuracy: {accuracy}')\n"
   ]
  },
  {
   "cell_type": "code",
   "execution_count": null,
   "metadata": {},
   "outputs": [],
   "source": [
    "\n",
    "# Load the iris dataset\n",
    "data = load_iris()\n",
    "X = data.data\n",
    "y = data.target\n",
    "\n",
    "# Split the data into training and testing sets\n",
    "X_train, X_test, y_train, y_test = train_test_split(X, y, test_size=0.2)\n"
   ]
  },
  {
   "cell_type": "code",
   "execution_count": null,
   "metadata": {},
   "outputs": [],
   "source": [
    "\n",
    "# Train the neural network\n",
    "nn = MultiClassNN()\n",
    "nn.fit(X_train, y_train)\n",
    "\n",
    "# Predict the test set\n",
    "y_pred = nn.predict(X_test)\n",
    "\n",
    "# Calculate the accuracy\n",
    "accuracy = accuracy_score(y_test, y_pred)\n",
    "print(f'My accuracy: {accuracy}')\n",
    "\n",
    "# Compare with sklearn\n",
    "sklearn_nn = MLPClassifier()\n",
    "sklearn_nn.fit(X_train, y_train)\n",
    "y_pred = sklearn_nn.predict(X_test)\n",
    "accuracy = accuracy_score(y_test, y_pred)\n",
    "print(f'Sklearn accuracy: {accuracy}')\n"
   ]
  },
  {
   "cell_type": "code",
   "execution_count": null,
   "metadata": {},
   "outputs": [],
   "source": [
    "\n",
    "# Load the boston dataset\n",
    "data = load_diabetes()\n",
    "X = data.data\n",
    "y = data.target\n",
    "\n",
    "# Split the data into training and testing sets\n",
    "X_train, X_test, y_train, y_test = train_test_split(X, y, test_size=0.2)\n"
   ]
  },
  {
   "cell_type": "code",
   "execution_count": null,
   "metadata": {},
   "outputs": [],
   "source": [
    "\n",
    "# Train the neural network\n",
    "nn = RegressionNN()\n",
    "nn.fit(X_train, y_train)\n",
    "\n",
    "# Predict the test set\n",
    "y_pred = nn.predict(X_test)\n",
    "\n",
    "# Calculate the accuracy\n",
    "accuracy = mean_squared_error(y_test, y_pred)\n",
    "print(f'My accuracy: {accuracy}')\n",
    "\n",
    "# Compare with sklearn\n",
    "sklearn_nn = MLPRegressor()\n",
    "sklearn_nn.fit(X_train, y_train)\n",
    "y_pred = sklearn_nn.predict(X_test)\n",
    "accuracy = mean_squared_error(y_test, y_pred)\n",
    "print(f'Sklearn accuracy: {accuracy}')\n",
    "\n",
    "\n"
   ]
  },
  {
   "cell_type": "code",
   "execution_count": null,
   "metadata": {},
   "outputs": [],
   "source": []
  }
 ],
 "metadata": {
  "kernelspec": {
   "display_name": "ds_ci1",
   "language": "python",
   "name": "python3"
  },
  "language_info": {
   "codemirror_mode": {
    "name": "ipython",
    "version": 3
   },
   "file_extension": ".py",
   "mimetype": "text/x-python",
   "name": "python",
   "nbconvert_exporter": "python",
   "pygments_lexer": "ipython3",
   "version": "3.11.7"
  }
 },
 "nbformat": 4,
 "nbformat_minor": 2
}
